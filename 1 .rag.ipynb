{
 "cells": [
  {
   "cell_type": "markdown",
   "metadata": {},
   "source": [
    "# Building a RAG (Retrieval Augmented Generation) System\n",
    "\n",
    "This notebook demonstrates how to build a RAG system from scratch using LangChain. We'll break it down into the following steps:\n",
    "\n",
    "1. Setting up dependencies\n",
    "2. Loading and processing documents\n",
    "3. Creating embeddings\n",
    "4. Setting up the vector store\n",
    "5. Configuring the LLM\n",
    "6. Creating the RAG chain\n",
    "7. Asking questions\n",
    "\n",
    "Let's get started!"
   ]
  },
  {
   "cell_type": "markdown",
   "metadata": {},
   "source": [
    "## 1. Setting up dependencies\n",
    "\n",
    "First, let's install the required packages:"
   ]
  },
  {
   "cell_type": "code",
   "execution_count": 1,
   "metadata": {},
   "outputs": [
    {
     "name": "stdout",
     "output_type": "stream",
     "text": [
      "Requirement already satisfied: langchain-community in /Users/shaonsikder/miniconda3/envs/others/lib/python3.11/site-packages (0.3.3)\n",
      "Requirement already satisfied: langchain-huggingface in /Users/shaonsikder/miniconda3/envs/others/lib/python3.11/site-packages (0.1.2)\n",
      "Requirement already satisfied: langchain_ollama in /Users/shaonsikder/miniconda3/envs/others/lib/python3.11/site-packages (0.2.0)\n",
      "Requirement already satisfied: chromadb in /Users/shaonsikder/miniconda3/envs/others/lib/python3.11/site-packages (0.4.24)\n",
      "Requirement already satisfied: sentence-transformers in /Users/shaonsikder/miniconda3/envs/others/lib/python3.11/site-packages (3.2.1)\n",
      "Requirement already satisfied: PyYAML>=5.3 in /Users/shaonsikder/miniconda3/envs/others/lib/python3.11/site-packages (from langchain-community) (6.0.2)\n",
      "Requirement already satisfied: SQLAlchemy<3,>=1.4 in /Users/shaonsikder/miniconda3/envs/others/lib/python3.11/site-packages (from langchain-community) (2.0.35)\n",
      "Requirement already satisfied: aiohttp<4.0.0,>=3.8.3 in /Users/shaonsikder/miniconda3/envs/others/lib/python3.11/site-packages (from langchain-community) (3.10.5)\n",
      "Requirement already satisfied: dataclasses-json<0.7,>=0.5.7 in /Users/shaonsikder/miniconda3/envs/others/lib/python3.11/site-packages (from langchain-community) (0.6.7)\n",
      "Requirement already satisfied: langchain<0.4.0,>=0.3.4 in /Users/shaonsikder/miniconda3/envs/others/lib/python3.11/site-packages (from langchain-community) (0.3.4)\n",
      "Requirement already satisfied: langchain-core<0.4.0,>=0.3.12 in /Users/shaonsikder/miniconda3/envs/others/lib/python3.11/site-packages (from langchain-community) (0.3.15)\n",
      "Requirement already satisfied: langsmith<0.2.0,>=0.1.125 in /Users/shaonsikder/miniconda3/envs/others/lib/python3.11/site-packages (from langchain-community) (0.1.137)\n",
      "Requirement already satisfied: numpy<2,>=1 in /Users/shaonsikder/miniconda3/envs/others/lib/python3.11/site-packages (from langchain-community) (1.26.4)\n",
      "Requirement already satisfied: pydantic-settings<3.0.0,>=2.4.0 in /Users/shaonsikder/miniconda3/envs/others/lib/python3.11/site-packages (from langchain-community) (2.6.0)\n",
      "Requirement already satisfied: requests<3,>=2 in /Users/shaonsikder/miniconda3/envs/others/lib/python3.11/site-packages (from langchain-community) (2.32.3)\n",
      "Requirement already satisfied: tenacity!=8.4.0,<10,>=8.1.0 in /Users/shaonsikder/miniconda3/envs/others/lib/python3.11/site-packages (from langchain-community) (9.0.0)\n",
      "Requirement already satisfied: huggingface-hub>=0.23.0 in /Users/shaonsikder/miniconda3/envs/others/lib/python3.11/site-packages (from langchain-huggingface) (0.26.1)\n",
      "Requirement already satisfied: tokenizers>=0.19.1 in /Users/shaonsikder/miniconda3/envs/others/lib/python3.11/site-packages (from langchain-huggingface) (0.20.1)\n",
      "Requirement already satisfied: transformers>=4.39.0 in /Users/shaonsikder/miniconda3/envs/others/lib/python3.11/site-packages (from langchain-huggingface) (4.46.1)\n",
      "Requirement already satisfied: ollama<1,>=0.3.0 in /Users/shaonsikder/miniconda3/envs/others/lib/python3.11/site-packages (from langchain_ollama) (0.3.3)\n",
      "Requirement already satisfied: build>=1.0.3 in /Users/shaonsikder/miniconda3/envs/others/lib/python3.11/site-packages (from chromadb) (1.2.2.post1)\n",
      "Requirement already satisfied: pydantic>=1.9 in /Users/shaonsikder/miniconda3/envs/others/lib/python3.11/site-packages (from chromadb) (2.9.2)\n",
      "Requirement already satisfied: chroma-hnswlib==0.7.3 in /Users/shaonsikder/miniconda3/envs/others/lib/python3.11/site-packages (from chromadb) (0.7.3)\n",
      "Requirement already satisfied: fastapi>=0.95.2 in /Users/shaonsikder/miniconda3/envs/others/lib/python3.11/site-packages (from chromadb) (0.115.3)\n",
      "Requirement already satisfied: uvicorn>=0.18.3 in /Users/shaonsikder/miniconda3/envs/others/lib/python3.11/site-packages (from uvicorn[standard]>=0.18.3->chromadb) (0.32.0)\n",
      "Requirement already satisfied: posthog>=2.4.0 in /Users/shaonsikder/miniconda3/envs/others/lib/python3.11/site-packages (from chromadb) (3.7.0)\n",
      "Requirement already satisfied: typing-extensions>=4.5.0 in /Users/shaonsikder/miniconda3/envs/others/lib/python3.11/site-packages (from chromadb) (4.12.2)\n",
      "Requirement already satisfied: pulsar-client>=3.1.0 in /Users/shaonsikder/miniconda3/envs/others/lib/python3.11/site-packages (from chromadb) (3.5.0)\n",
      "Requirement already satisfied: onnxruntime>=1.14.1 in /Users/shaonsikder/miniconda3/envs/others/lib/python3.11/site-packages (from chromadb) (1.19.2)\n",
      "Requirement already satisfied: opentelemetry-api>=1.2.0 in /Users/shaonsikder/miniconda3/envs/others/lib/python3.11/site-packages (from chromadb) (1.27.0)\n",
      "Requirement already satisfied: opentelemetry-exporter-otlp-proto-grpc>=1.2.0 in /Users/shaonsikder/miniconda3/envs/others/lib/python3.11/site-packages (from chromadb) (1.27.0)\n",
      "Requirement already satisfied: opentelemetry-instrumentation-fastapi>=0.41b0 in /Users/shaonsikder/miniconda3/envs/others/lib/python3.11/site-packages (from chromadb) (0.48b0)\n",
      "Requirement already satisfied: opentelemetry-sdk>=1.2.0 in /Users/shaonsikder/miniconda3/envs/others/lib/python3.11/site-packages (from chromadb) (1.27.0)\n",
      "Requirement already satisfied: pypika>=0.48.9 in /Users/shaonsikder/miniconda3/envs/others/lib/python3.11/site-packages (from chromadb) (0.48.9)\n",
      "Requirement already satisfied: tqdm>=4.65.0 in /Users/shaonsikder/miniconda3/envs/others/lib/python3.11/site-packages (from chromadb) (4.66.5)\n",
      "Requirement already satisfied: overrides>=7.3.1 in /Users/shaonsikder/miniconda3/envs/others/lib/python3.11/site-packages (from chromadb) (7.7.0)\n",
      "Requirement already satisfied: importlib-resources in /Users/shaonsikder/miniconda3/envs/others/lib/python3.11/site-packages (from chromadb) (6.4.5)\n",
      "Requirement already satisfied: grpcio>=1.58.0 in /Users/shaonsikder/miniconda3/envs/others/lib/python3.11/site-packages (from chromadb) (1.67.0)\n",
      "Requirement already satisfied: bcrypt>=4.0.1 in /Users/shaonsikder/miniconda3/envs/others/lib/python3.11/site-packages (from chromadb) (4.2.0)\n",
      "Requirement already satisfied: typer>=0.9.0 in /Users/shaonsikder/miniconda3/envs/others/lib/python3.11/site-packages (from chromadb) (0.9.4)\n",
      "Requirement already satisfied: kubernetes>=28.1.0 in /Users/shaonsikder/miniconda3/envs/others/lib/python3.11/site-packages (from chromadb) (31.0.0)\n",
      "Requirement already satisfied: mmh3>=4.0.1 in /Users/shaonsikder/miniconda3/envs/others/lib/python3.11/site-packages (from chromadb) (5.0.1)\n",
      "Requirement already satisfied: orjson>=3.9.12 in /Users/shaonsikder/miniconda3/envs/others/lib/python3.11/site-packages (from chromadb) (3.10.7)\n",
      "Requirement already satisfied: torch>=1.11.0 in /Users/shaonsikder/miniconda3/envs/others/lib/python3.11/site-packages (from sentence-transformers) (2.5.1)\n",
      "Requirement already satisfied: scikit-learn in /Users/shaonsikder/miniconda3/envs/others/lib/python3.11/site-packages (from sentence-transformers) (1.5.2)\n",
      "Requirement already satisfied: scipy in /Users/shaonsikder/miniconda3/envs/others/lib/python3.11/site-packages (from sentence-transformers) (1.14.1)\n",
      "Requirement already satisfied: Pillow in /Users/shaonsikder/miniconda3/envs/others/lib/python3.11/site-packages (from sentence-transformers) (10.4.0)\n",
      "Requirement already satisfied: aiohappyeyeballs>=2.3.0 in /Users/shaonsikder/miniconda3/envs/others/lib/python3.11/site-packages (from aiohttp<4.0.0,>=3.8.3->langchain-community) (2.4.0)\n",
      "Requirement already satisfied: aiosignal>=1.1.2 in /Users/shaonsikder/miniconda3/envs/others/lib/python3.11/site-packages (from aiohttp<4.0.0,>=3.8.3->langchain-community) (1.3.1)\n",
      "Requirement already satisfied: attrs>=17.3.0 in /Users/shaonsikder/miniconda3/envs/others/lib/python3.11/site-packages (from aiohttp<4.0.0,>=3.8.3->langchain-community) (24.2.0)\n",
      "Requirement already satisfied: frozenlist>=1.1.1 in /Users/shaonsikder/miniconda3/envs/others/lib/python3.11/site-packages (from aiohttp<4.0.0,>=3.8.3->langchain-community) (1.4.1)\n",
      "Requirement already satisfied: multidict<7.0,>=4.5 in /Users/shaonsikder/miniconda3/envs/others/lib/python3.11/site-packages (from aiohttp<4.0.0,>=3.8.3->langchain-community) (6.1.0)\n",
      "Requirement already satisfied: yarl<2.0,>=1.0 in /Users/shaonsikder/miniconda3/envs/others/lib/python3.11/site-packages (from aiohttp<4.0.0,>=3.8.3->langchain-community) (1.11.1)\n",
      "Requirement already satisfied: packaging>=19.1 in /Users/shaonsikder/miniconda3/envs/others/lib/python3.11/site-packages (from build>=1.0.3->chromadb) (24.1)\n",
      "Requirement already satisfied: pyproject_hooks in /Users/shaonsikder/miniconda3/envs/others/lib/python3.11/site-packages (from build>=1.0.3->chromadb) (1.2.0)\n",
      "Requirement already satisfied: marshmallow<4.0.0,>=3.18.0 in /Users/shaonsikder/miniconda3/envs/others/lib/python3.11/site-packages (from dataclasses-json<0.7,>=0.5.7->langchain-community) (3.22.0)\n",
      "Requirement already satisfied: typing-inspect<1,>=0.4.0 in /Users/shaonsikder/miniconda3/envs/others/lib/python3.11/site-packages (from dataclasses-json<0.7,>=0.5.7->langchain-community) (0.9.0)\n",
      "Requirement already satisfied: starlette<0.42.0,>=0.40.0 in /Users/shaonsikder/miniconda3/envs/others/lib/python3.11/site-packages (from fastapi>=0.95.2->chromadb) (0.41.0)\n",
      "Requirement already satisfied: filelock in /Users/shaonsikder/miniconda3/envs/others/lib/python3.11/site-packages (from huggingface-hub>=0.23.0->langchain-huggingface) (3.16.1)\n",
      "Requirement already satisfied: fsspec>=2023.5.0 in /Users/shaonsikder/miniconda3/envs/others/lib/python3.11/site-packages (from huggingface-hub>=0.23.0->langchain-huggingface) (2024.10.0)\n",
      "Requirement already satisfied: certifi>=14.05.14 in /Users/shaonsikder/miniconda3/envs/others/lib/python3.11/site-packages (from kubernetes>=28.1.0->chromadb) (2024.8.30)\n",
      "Requirement already satisfied: six>=1.9.0 in /Users/shaonsikder/miniconda3/envs/others/lib/python3.11/site-packages (from kubernetes>=28.1.0->chromadb) (1.16.0)\n",
      "Requirement already satisfied: python-dateutil>=2.5.3 in /Users/shaonsikder/miniconda3/envs/others/lib/python3.11/site-packages (from kubernetes>=28.1.0->chromadb) (2.8.2)\n",
      "Requirement already satisfied: google-auth>=1.0.1 in /Users/shaonsikder/miniconda3/envs/others/lib/python3.11/site-packages (from kubernetes>=28.1.0->chromadb) (2.35.0)\n",
      "Requirement already satisfied: websocket-client!=0.40.0,!=0.41.*,!=0.42.*,>=0.32.0 in /Users/shaonsikder/miniconda3/envs/others/lib/python3.11/site-packages (from kubernetes>=28.1.0->chromadb) (1.8.0)\n",
      "Requirement already satisfied: requests-oauthlib in /Users/shaonsikder/miniconda3/envs/others/lib/python3.11/site-packages (from kubernetes>=28.1.0->chromadb) (2.0.0)\n",
      "Requirement already satisfied: oauthlib>=3.2.2 in /Users/shaonsikder/miniconda3/envs/others/lib/python3.11/site-packages (from kubernetes>=28.1.0->chromadb) (3.2.2)\n",
      "Requirement already satisfied: urllib3>=1.24.2 in /Users/shaonsikder/miniconda3/envs/others/lib/python3.11/site-packages (from kubernetes>=28.1.0->chromadb) (2.2.3)\n",
      "Requirement already satisfied: durationpy>=0.7 in /Users/shaonsikder/miniconda3/envs/others/lib/python3.11/site-packages (from kubernetes>=28.1.0->chromadb) (0.9)\n",
      "Requirement already satisfied: langchain-text-splitters<0.4.0,>=0.3.0 in /Users/shaonsikder/miniconda3/envs/others/lib/python3.11/site-packages (from langchain<0.4.0,>=0.3.4->langchain-community) (0.3.0)\n",
      "Requirement already satisfied: jsonpatch<2.0,>=1.33 in /Users/shaonsikder/miniconda3/envs/others/lib/python3.11/site-packages (from langchain-core<0.4.0,>=0.3.12->langchain-community) (1.33)\n",
      "Requirement already satisfied: httpx<1,>=0.23.0 in /Users/shaonsikder/miniconda3/envs/others/lib/python3.11/site-packages (from langsmith<0.2.0,>=0.1.125->langchain-community) (0.27.2)\n",
      "Requirement already satisfied: requests-toolbelt<2.0.0,>=1.0.0 in /Users/shaonsikder/miniconda3/envs/others/lib/python3.11/site-packages (from langsmith<0.2.0,>=0.1.125->langchain-community) (1.0.0)\n",
      "Requirement already satisfied: coloredlogs in /Users/shaonsikder/miniconda3/envs/others/lib/python3.11/site-packages (from onnxruntime>=1.14.1->chromadb) (15.0.1)\n",
      "Requirement already satisfied: flatbuffers in /Users/shaonsikder/miniconda3/envs/others/lib/python3.11/site-packages (from onnxruntime>=1.14.1->chromadb) (24.3.25)\n",
      "Requirement already satisfied: protobuf in /Users/shaonsikder/miniconda3/envs/others/lib/python3.11/site-packages (from onnxruntime>=1.14.1->chromadb) (4.25.5)\n",
      "Requirement already satisfied: sympy in /Users/shaonsikder/miniconda3/envs/others/lib/python3.11/site-packages (from onnxruntime>=1.14.1->chromadb) (1.13.1)\n",
      "Requirement already satisfied: deprecated>=1.2.6 in /Users/shaonsikder/miniconda3/envs/others/lib/python3.11/site-packages (from opentelemetry-api>=1.2.0->chromadb) (1.2.14)\n",
      "Requirement already satisfied: importlib-metadata<=8.4.0,>=6.0 in /Users/shaonsikder/miniconda3/envs/others/lib/python3.11/site-packages (from opentelemetry-api>=1.2.0->chromadb) (8.4.0)\n",
      "Requirement already satisfied: googleapis-common-protos~=1.52 in /Users/shaonsikder/miniconda3/envs/others/lib/python3.11/site-packages (from opentelemetry-exporter-otlp-proto-grpc>=1.2.0->chromadb) (1.65.0)\n",
      "Requirement already satisfied: opentelemetry-exporter-otlp-proto-common==1.27.0 in /Users/shaonsikder/miniconda3/envs/others/lib/python3.11/site-packages (from opentelemetry-exporter-otlp-proto-grpc>=1.2.0->chromadb) (1.27.0)\n",
      "Requirement already satisfied: opentelemetry-proto==1.27.0 in /Users/shaonsikder/miniconda3/envs/others/lib/python3.11/site-packages (from opentelemetry-exporter-otlp-proto-grpc>=1.2.0->chromadb) (1.27.0)\n",
      "Requirement already satisfied: opentelemetry-instrumentation-asgi==0.48b0 in /Users/shaonsikder/miniconda3/envs/others/lib/python3.11/site-packages (from opentelemetry-instrumentation-fastapi>=0.41b0->chromadb) (0.48b0)\n",
      "Requirement already satisfied: opentelemetry-instrumentation==0.48b0 in /Users/shaonsikder/miniconda3/envs/others/lib/python3.11/site-packages (from opentelemetry-instrumentation-fastapi>=0.41b0->chromadb) (0.48b0)\n",
      "Requirement already satisfied: opentelemetry-semantic-conventions==0.48b0 in /Users/shaonsikder/miniconda3/envs/others/lib/python3.11/site-packages (from opentelemetry-instrumentation-fastapi>=0.41b0->chromadb) (0.48b0)\n",
      "Requirement already satisfied: opentelemetry-util-http==0.48b0 in /Users/shaonsikder/miniconda3/envs/others/lib/python3.11/site-packages (from opentelemetry-instrumentation-fastapi>=0.41b0->chromadb) (0.48b0)\n",
      "Requirement already satisfied: setuptools>=16.0 in /Users/shaonsikder/miniconda3/envs/others/lib/python3.11/site-packages (from opentelemetry-instrumentation==0.48b0->opentelemetry-instrumentation-fastapi>=0.41b0->chromadb) (75.1.0)\n",
      "Requirement already satisfied: wrapt<2.0.0,>=1.0.0 in /Users/shaonsikder/miniconda3/envs/others/lib/python3.11/site-packages (from opentelemetry-instrumentation==0.48b0->opentelemetry-instrumentation-fastapi>=0.41b0->chromadb) (1.16.0)\n",
      "Requirement already satisfied: asgiref~=3.0 in /Users/shaonsikder/miniconda3/envs/others/lib/python3.11/site-packages (from opentelemetry-instrumentation-asgi==0.48b0->opentelemetry-instrumentation-fastapi>=0.41b0->chromadb) (3.8.1)\n",
      "Requirement already satisfied: monotonic>=1.5 in /Users/shaonsikder/miniconda3/envs/others/lib/python3.11/site-packages (from posthog>=2.4.0->chromadb) (1.6)\n",
      "Requirement already satisfied: backoff>=1.10.0 in /Users/shaonsikder/miniconda3/envs/others/lib/python3.11/site-packages (from posthog>=2.4.0->chromadb) (2.2.1)\n",
      "Requirement already satisfied: annotated-types>=0.6.0 in /Users/shaonsikder/miniconda3/envs/others/lib/python3.11/site-packages (from pydantic>=1.9->chromadb) (0.7.0)\n",
      "Requirement already satisfied: pydantic-core==2.23.4 in /Users/shaonsikder/miniconda3/envs/others/lib/python3.11/site-packages (from pydantic>=1.9->chromadb) (2.23.4)\n",
      "Requirement already satisfied: python-dotenv>=0.21.0 in /Users/shaonsikder/miniconda3/envs/others/lib/python3.11/site-packages (from pydantic-settings<3.0.0,>=2.4.0->langchain-community) (1.0.0)\n",
      "Requirement already satisfied: charset-normalizer<4,>=2 in /Users/shaonsikder/miniconda3/envs/others/lib/python3.11/site-packages (from requests<3,>=2->langchain-community) (3.3.2)\n",
      "Requirement already satisfied: idna<4,>=2.5 in /Users/shaonsikder/miniconda3/envs/others/lib/python3.11/site-packages (from requests<3,>=2->langchain-community) (3.10)\n",
      "Requirement already satisfied: networkx in /Users/shaonsikder/miniconda3/envs/others/lib/python3.11/site-packages (from torch>=1.11.0->sentence-transformers) (3.4.2)\n",
      "Requirement already satisfied: jinja2 in /Users/shaonsikder/miniconda3/envs/others/lib/python3.11/site-packages (from torch>=1.11.0->sentence-transformers) (3.1.4)\n",
      "Requirement already satisfied: mpmath<1.4,>=1.1.0 in /Users/shaonsikder/miniconda3/envs/others/lib/python3.11/site-packages (from sympy->onnxruntime>=1.14.1->chromadb) (1.3.0)\n",
      "Requirement already satisfied: regex!=2019.12.17 in /Users/shaonsikder/miniconda3/envs/others/lib/python3.11/site-packages (from transformers>=4.39.0->langchain-huggingface) (2024.9.11)\n",
      "Requirement already satisfied: safetensors>=0.4.1 in /Users/shaonsikder/miniconda3/envs/others/lib/python3.11/site-packages (from transformers>=4.39.0->langchain-huggingface) (0.4.5)\n",
      "Requirement already satisfied: click<9.0.0,>=7.1.1 in /Users/shaonsikder/miniconda3/envs/others/lib/python3.11/site-packages (from typer>=0.9.0->chromadb) (8.1.7)\n",
      "Requirement already satisfied: h11>=0.8 in /Users/shaonsikder/miniconda3/envs/others/lib/python3.11/site-packages (from uvicorn>=0.18.3->uvicorn[standard]>=0.18.3->chromadb) (0.14.0)\n",
      "Requirement already satisfied: httptools>=0.5.0 in /Users/shaonsikder/miniconda3/envs/others/lib/python3.11/site-packages (from uvicorn[standard]>=0.18.3->chromadb) (0.6.4)\n",
      "Requirement already satisfied: uvloop!=0.15.0,!=0.15.1,>=0.14.0 in /Users/shaonsikder/miniconda3/envs/others/lib/python3.11/site-packages (from uvicorn[standard]>=0.18.3->chromadb) (0.21.0)\n",
      "Requirement already satisfied: watchfiles>=0.13 in /Users/shaonsikder/miniconda3/envs/others/lib/python3.11/site-packages (from uvicorn[standard]>=0.18.3->chromadb) (0.24.0)\n",
      "Requirement already satisfied: websockets>=10.4 in /Users/shaonsikder/miniconda3/envs/others/lib/python3.11/site-packages (from uvicorn[standard]>=0.18.3->chromadb) (13.1)\n",
      "Requirement already satisfied: joblib>=1.2.0 in /Users/shaonsikder/miniconda3/envs/others/lib/python3.11/site-packages (from scikit-learn->sentence-transformers) (1.4.2)\n",
      "Requirement already satisfied: threadpoolctl>=3.1.0 in /Users/shaonsikder/miniconda3/envs/others/lib/python3.11/site-packages (from scikit-learn->sentence-transformers) (3.5.0)\n",
      "Requirement already satisfied: cachetools<6.0,>=2.0.0 in /Users/shaonsikder/miniconda3/envs/others/lib/python3.11/site-packages (from google-auth>=1.0.1->kubernetes>=28.1.0->chromadb) (5.5.0)\n",
      "Requirement already satisfied: pyasn1-modules>=0.2.1 in /Users/shaonsikder/miniconda3/envs/others/lib/python3.11/site-packages (from google-auth>=1.0.1->kubernetes>=28.1.0->chromadb) (0.4.1)\n",
      "Requirement already satisfied: rsa<5,>=3.1.4 in /Users/shaonsikder/miniconda3/envs/others/lib/python3.11/site-packages (from google-auth>=1.0.1->kubernetes>=28.1.0->chromadb) (4.9)\n",
      "Requirement already satisfied: anyio in /Users/shaonsikder/miniconda3/envs/others/lib/python3.11/site-packages (from httpx<1,>=0.23.0->langsmith<0.2.0,>=0.1.125->langchain-community) (4.6.0)\n",
      "Requirement already satisfied: httpcore==1.* in /Users/shaonsikder/miniconda3/envs/others/lib/python3.11/site-packages (from httpx<1,>=0.23.0->langsmith<0.2.0,>=0.1.125->langchain-community) (1.0.5)\n",
      "Requirement already satisfied: sniffio in /Users/shaonsikder/miniconda3/envs/others/lib/python3.11/site-packages (from httpx<1,>=0.23.0->langsmith<0.2.0,>=0.1.125->langchain-community) (1.3.1)\n",
      "Requirement already satisfied: zipp>=0.5 in /Users/shaonsikder/miniconda3/envs/others/lib/python3.11/site-packages (from importlib-metadata<=8.4.0,>=6.0->opentelemetry-api>=1.2.0->chromadb) (3.20.2)\n",
      "Requirement already satisfied: jsonpointer>=1.9 in /Users/shaonsikder/miniconda3/envs/others/lib/python3.11/site-packages (from jsonpatch<2.0,>=1.33->langchain-core<0.4.0,>=0.3.12->langchain-community) (3.0.0)\n",
      "Requirement already satisfied: mypy-extensions>=0.3.0 in /Users/shaonsikder/miniconda3/envs/others/lib/python3.11/site-packages (from typing-inspect<1,>=0.4.0->dataclasses-json<0.7,>=0.5.7->langchain-community) (1.0.0)\n",
      "Requirement already satisfied: humanfriendly>=9.1 in /Users/shaonsikder/miniconda3/envs/others/lib/python3.11/site-packages (from coloredlogs->onnxruntime>=1.14.1->chromadb) (10.0)\n",
      "Requirement already satisfied: MarkupSafe>=2.0 in /Users/shaonsikder/miniconda3/envs/others/lib/python3.11/site-packages (from jinja2->torch>=1.11.0->sentence-transformers) (3.0.2)\n",
      "Requirement already satisfied: pyasn1<0.7.0,>=0.4.6 in /Users/shaonsikder/miniconda3/envs/others/lib/python3.11/site-packages (from pyasn1-modules>=0.2.1->google-auth>=1.0.1->kubernetes>=28.1.0->chromadb) (0.6.1)\n",
      "Note: you may need to restart the kernel to use updated packages.\n"
     ]
    }
   ],
   "source": [
    "%pip install langchain-community langchain-huggingface langchain_ollama chromadb sentence-transformers"
   ]
  },
  {
   "cell_type": "code",
   "execution_count": 2,
   "metadata": {},
   "outputs": [],
   "source": [
    "import os\n",
    "from typing import List, Dict\n",
    "\n",
    "from langchain_huggingface import HuggingFaceEmbeddings\n",
    "from langchain_community.vectorstores import Chroma\n",
    "from langchain.text_splitter import RecursiveCharacterTextSplitter\n",
    "from langchain_community.document_loaders import PyPDFLoader\n",
    "from langchain_ollama import ChatOllama\n",
    "from langchain.chains import RetrievalQA\n",
    "from langchain.prompts import PromptTemplate"
   ]
  },
  {
   "cell_type": "markdown",
   "metadata": {},
   "source": [
    "## 2. Loading and Processing Documents\n",
    "\n",
    "We'll create functions to load and process PDF documents:"
   ]
  },
  {
   "cell_type": "code",
   "execution_count": 4,
   "metadata": {},
   "outputs": [
    {
     "name": "stdout",
     "output_type": "stream",
     "text": [
      "Processed 30 chunks from the PDF\n"
     ]
    }
   ],
   "source": [
    "def process_pdf(file_path: str) -> List[Dict]:\n",
    "    \"\"\"Load and process a PDF file\"\"\"\n",
    "    # Load PDF\n",
    "    loader = PyPDFLoader(file_path)\n",
    "    pages = loader.load()\n",
    "    \n",
    "    # Split into chunks\n",
    "    text_splitter = RecursiveCharacterTextSplitter(\n",
    "        chunk_size=1000,\n",
    "        chunk_overlap=200,\n",
    "        length_function=len,\n",
    "    )\n",
    "    \n",
    "    splits = text_splitter.split_documents(pages)\n",
    "    \n",
    "    # Add source filename to metadata\n",
    "    for split in splits:\n",
    "        split.metadata[\"source\"] = os.path.basename(file_path)\n",
    "        \n",
    "    return splits\n",
    "\n",
    "# Example usage:\n",
    "pdf_path = \"/Users/shaonsikder/Downloads/AI Session/agent_learning/data/Meta-12.31.2022-Exhibit-99.1-FINAL.pdf\"  # Replace with your PDF path\n",
    "documents = process_pdf(pdf_path)\n",
    "print(f\"Processed {len(documents)} chunks from the PDF\")"
   ]
  },
  {
   "cell_type": "markdown",
   "metadata": {},
   "source": [
    "## 3. Creating Embeddings\n",
    "\n",
    "Now let's set up the embedding model:"
   ]
  },
  {
   "cell_type": "code",
   "execution_count": 5,
   "metadata": {},
   "outputs": [
    {
     "name": "stderr",
     "output_type": "stream",
     "text": [
      "/Users/shaonsikder/miniconda3/envs/others/lib/python3.11/site-packages/sentence_transformers/cross_encoder/CrossEncoder.py:13: TqdmWarning: IProgress not found. Please update jupyter and ipywidgets. See https://ipywidgets.readthedocs.io/en/stable/user_install.html\n",
      "  from tqdm.autonotebook import tqdm, trange\n"
     ]
    }
   ],
   "source": [
    "# Initialize embedding model\n",
    "embeddings = HuggingFaceEmbeddings(\n",
    "    model_name=\"sentence-transformers/all-MiniLM-L6-v2\",\n",
    "    model_kwargs={'device': 'cpu'},\n",
    "    encode_kwargs={'normalize_embeddings': True}\n",
    ")"
   ]
  },
  {
   "cell_type": "markdown",
   "metadata": {},
   "source": [
    "## 4. Setting up the Vector Store\n",
    "\n",
    "Create a vector store from our documents:"
   ]
  },
  {
   "cell_type": "code",
   "execution_count": 7,
   "metadata": {},
   "outputs": [],
   "source": [
    "# Create vector store\n",
    "vector_store = Chroma.from_documents(\n",
    "    documents=documents,\n",
    "    embedding=embeddings\n",
    ")"
   ]
  },
  {
   "cell_type": "code",
   "execution_count": 8,
   "metadata": {},
   "outputs": [
    {
     "name": "stdout",
     "output_type": "stream",
     "text": [
      "Found 4 relevant chunks\n"
     ]
    }
   ],
   "source": [
    "# Test a simple similarity search\n",
    "query = \"What is this document about?\"  # Replace with your test query\n",
    "docs = vector_store.similarity_search(query)\n",
    "print(f\"Found {len(docs)} relevant chunks\")"
   ]
  },
  {
   "cell_type": "markdown",
   "metadata": {},
   "source": [
    "## 5. Configuring the LLM\n",
    "\n",
    "Set up the language model (using Ollama in this case):"
   ]
  },
  {
   "cell_type": "code",
   "execution_count": 9,
   "metadata": {},
   "outputs": [],
   "source": [
    "# Initialize Ollama\n",
    "llm = ChatOllama(\n",
    "    model=\"llama3.1\",  # or your preferred model\n",
    "    temperature=0\n",
    ")"
   ]
  },
  {
   "cell_type": "markdown",
   "metadata": {},
   "source": [
    "## 6. Creating the RAG Chain\n",
    "\n",
    "Now let's create our RAG chain with a custom prompt:"
   ]
  },
  {
   "cell_type": "code",
   "execution_count": 10,
   "metadata": {},
   "outputs": [],
   "source": [
    "# Create prompt template\n",
    "template = \"\"\"Use the following pieces of context to answer the question at the end.\n",
    "If you don't know the answer, just say that you don't know.\n",
    "\n",
    "Context: {context}\n",
    "\n",
    "Question: {question}\n",
    "\n",
    "Answer:\"\"\"\n",
    "\n",
    "prompt = PromptTemplate(\n",
    "    template=template,\n",
    "    input_variables=[\"context\", \"question\"]\n",
    ")\n",
    "\n",
    "# Create the RAG chain\n",
    "qa_chain = RetrievalQA.from_chain_type(\n",
    "    llm=llm,\n",
    "    chain_type=\"stuff\",\n",
    "    retriever=vector_store.as_retriever(search_kwargs={\"k\": 3}),\n",
    "    return_source_documents=True,\n",
    "    chain_type_kwargs={\"prompt\": prompt}\n",
    ")"
   ]
  },
  {
   "cell_type": "markdown",
   "metadata": {},
   "source": [
    "## 7. Asking Questions\n",
    "\n",
    "Finally, let's test our RAG system by asking questions:"
   ]
  },
  {
   "cell_type": "code",
   "execution_count": 11,
   "metadata": {},
   "outputs": [
    {
     "name": "stdout",
     "output_type": "stream",
     "text": [
      "Answer:\n",
      "This document appears to be a press release from a company, likely a technology or media company, that contains forward-looking statements and financial information. It mentions non-GAAP financial measures and a reconciliation table, which suggests that the document is discussing the company's financial performance and future business plans.\n",
      "\n",
      "Sources:\n",
      "\n",
      "From Meta-12.31.2022-Exhibit-99.1-FINAL.pdf (Page 5):\n",
      "intended to represent our residual cash flow available for discretionary expenditures. \n",
      "For more information on our non-GAAP financial measures and a reconciliation of GAAP to non-GAAP measures, please see the \n",
      "\"Reconciliation of GAAP to Non-GAAP Results\" table in this press release.\n",
      "5\n",
      "\n",
      "From Meta-12.31.2022-Exhibit-99.1-FINAL.pdf (Page 5):\n",
      "intended to represent our residual cash flow available for discretionary expenditures. \n",
      "For more information on our non-GAAP financial measures and a reconciliation of GAAP to non-GAAP measures, please see the \n",
      "\"Reconciliation of GAAP to Non-GAAP Results\" table in this press release.\n",
      "5\n",
      "\n",
      "From Meta-12.31.2022-Exhibit-99.1-FINAL.pdf (Page 5):\n",
      "Forward-Looking Statements\n",
      "This press release contains forward-looking statements regarding our future business plans and expectations. These forward-\n",
      "looking statements are only predictions and may differ materially from actual results due to a variety of factors including: the \n",
      "impact of macroeconomic conditions on our business and financial results, including as a result of the COVID-19 pandemic and \n",
      "geopolitical events; our ability to retain or increase users and engagement levels; our reliance on advertising revenue; our \n",
      "dependency on data signals and mobile operating systems, networks, and standards that we do not control; changes to the content \n",
      "or application of third-party policies that impact our advertising practices; risks associated with new products and changes to \n",
      "existing products as well as other new business initiatives, including our metaverse efforts; our emphasis on community growth\n"
     ]
    }
   ],
   "source": [
    "def ask_question(question: str):\n",
    "    \"\"\"Ask a question and display the answer with sources\"\"\"\n",
    "    # Get response\n",
    "    response = qa_chain.invoke({\"query\": question})\n",
    "    \n",
    "    print(\"Answer:\")\n",
    "    print(response[\"result\"])\n",
    "    print(\"\\nSources:\")\n",
    "    for doc in response[\"source_documents\"]:\n",
    "        print(f\"\\nFrom {doc.metadata['source']} (Page {doc.metadata['page'] + 1}):\")\n",
    "        print(doc.page_content)\n",
    "\n",
    "# Example usage\n",
    "question = \"What is this document about?\"  # Replace with your question\n",
    "ask_question(question)"
   ]
  },
  {
   "cell_type": "markdown",
   "metadata": {},
   "source": [
    "## Conclusion\n",
    "\n",
    "You've now built a complete RAG system! Here's what we covered:\n",
    "\n",
    "1. Loading and processing PDF documents\n",
    "2. Creating embeddings using Hugging Face\n",
    "3. Setting up a vector store with Chroma\n",
    "4. Configuring an LLM with Ollama\n",
    "5. Creating a RAG chain with LangChain\n",
    "6. Asking questions and getting answers with sources\n",
    "\n",
    "You can extend this system by:\n",
    "- Adding support for different document types\n",
    "- Using different embedding models\n",
    "- Trying different LLMs\n",
    "- Customizing the prompt template\n",
    "- Adding error handling and logging"
   ]
  }
 ],
 "metadata": {
  "kernelspec": {
   "display_name": "Python 3",
   "language": "python",
   "name": "python3"
  },
  "language_info": {
   "codemirror_mode": {
    "name": "ipython",
    "version": 3
   },
   "file_extension": ".py",
   "mimetype": "text/x-python",
   "name": "python",
   "nbconvert_exporter": "python",
   "pygments_lexer": "ipython3",
   "version": "3.11.8"
  }
 },
 "nbformat": 4,
 "nbformat_minor": 2
}
